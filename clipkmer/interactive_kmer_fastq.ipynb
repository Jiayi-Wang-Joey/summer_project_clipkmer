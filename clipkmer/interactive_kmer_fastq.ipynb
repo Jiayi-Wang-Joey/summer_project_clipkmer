{
 "metadata": {
  "language_info": {
   "codemirror_mode": {
    "name": "ipython",
    "version": 3
   },
   "file_extension": ".py",
   "mimetype": "text/x-python",
   "name": "python",
   "nbconvert_exporter": "python",
   "pygments_lexer": "ipython3",
   "version": "3.7.4"
  },
  "orig_nbformat": 4,
  "kernelspec": {
   "name": "python3",
   "display_name": "Python 3.7.4 64-bit ('base': conda)"
  },
  "interpreter": {
   "hash": "c39b740c7e8315252f08c94b17875ec09dd6ee22a1ed05f98757d1ae325a54cb"
  }
 },
 "nbformat": 4,
 "nbformat_minor": 2,
 "cells": [
  {
   "cell_type": "code",
   "execution_count": 23,
   "metadata": {},
   "outputs": [],
   "source": [
    "import matplotlib.pyplot as plt  \n",
    "import scipy\n",
    "from scipy.stats import norm\n",
    "from collections import Counter\n",
    "from ipywidgets import interactive, IntSlider\n",
    "import random"
   ]
  },
  {
   "cell_type": "code",
   "execution_count": 11,
   "metadata": {},
   "outputs": [],
   "source": [
    "def read_sequence(filename):\n",
    "    with open(filename, \"r\") as file: \n",
    "        sequence = []\n",
    "        file_content = file.readlines()\n",
    "        for i in range(len(file_content)):\n",
    "            if file_content[i].startswith(\"@\"):\n",
    "                sequence.append(file_content[i+1])\n",
    "    \n",
    "    return sequence"
   ]
  },
  {
   "cell_type": "code",
   "execution_count": 18,
   "metadata": {},
   "outputs": [],
   "source": [
    "def kmer_frequency(sequence, length):\n",
    "    output_dict = {}\n",
    "    \n",
    "    for line in sequence:\n",
    "        # Save the kmer frequency for each sequence\n",
    "        line_dict = {}\n",
    "        used_counts = 0\n",
    "        skipped_counts = 0\n",
    "        \n",
    "        if len(line) >= length:\n",
    "            for i in range(0,len(line)-length+1):\n",
    "                fragment = line[i:i+length]\n",
    "                count = line.count(fragment)\n",
    "                line_dict[fragment] = count\n",
    "                \n",
    "            # Add the kmer frequency in each sequence to the total dictionary \n",
    "            for key in line_dict:\n",
    "                if key in output_dict.keys():\n",
    "                    output_dict[key] += line_dict[key]\n",
    "                else:\n",
    "                    output_dict[key] = line_dict[key]\n",
    "                \n",
    "            used_counts += 1\n",
    "\n",
    "        else:\n",
    "            print(\"Warning: The kmer length is longer than nucleotide sequence\")\n",
    "            skipped_counts += 1\n",
    "\n",
    "    return output_dict"
   ]
  },
  {
   "cell_type": "code",
   "execution_count": 16,
   "metadata": {},
   "outputs": [],
   "source": [
    "def bar_interactive(length):\n",
    "    sequence = read_sequence(filename)\n",
    "    output = kmer_frequency(sequence,length)\n",
    "    top10 = dict(Counter(output).most_common(10))\n",
    "    \n",
    "    #Plot the bar chart for top 10 values\n",
    "    fig1 = plt.figure(figsize = (10,5))\n",
    "    ax = fig1.add_subplot(1,1,1)\n",
    "    ax.bar(list(top10.keys()), top10.values(), color = \"b\")\n",
    "    ax.set_xlabel(\"Fragments\",fontsize = 15)\n",
    "    ax.set_ylabel(\"Counts\",fontsize = 15)"
   ]
  },
  {
   "cell_type": "code",
   "execution_count": 19,
   "metadata": {},
   "outputs": [
    {
     "output_type": "display_data",
     "data": {
      "text/plain": "interactive(children=(IntSlider(value=6, continuous_update=False, description='length', max=1000, min=1), Outp…",
      "application/vnd.jupyter.widget-view+json": {
       "version_major": 2,
       "version_minor": 0,
       "model_id": "51b5154bf4f14c59b0fef81fe3235fd0"
      }
     },
     "metadata": {}
    }
   ],
   "source": [
    "%matplotlib inline\n",
    "filename = '/Users/apple/Desktop/Summer_project/dataset/ENCFF170YQV_rep2_1.fq'\n",
    "sequence = read_sequence(filename)\n",
    "length = 6\n",
    "\n",
    "# create interactive sliders for kmer sequence\n",
    "length_widget = IntSlider(min = 1, max = 1000, value = length)\n",
    "\n",
    "# adjust settings to prevent continous recalculation and update of plot while user drags widget\n",
    "for item in [ length_widget ]:\n",
    "    item.continuous_update = False\n",
    "\n",
    "interactive(bar_interactive, length = length_widget)"
   ]
  },
  {
   "cell_type": "code",
   "execution_count": 8,
   "metadata": {},
   "outputs": [
    {
     "output_type": "display_data",
     "data": {
      "text/plain": "interactive(children=(IntSlider(value=6, continuous_update=False, description='length', max=1000, min=1), Outp…",
      "application/vnd.jupyter.widget-view+json": {
       "version_major": 2,
       "version_minor": 0,
       "model_id": "54e66fef904f4d3ba2027843964a8e19"
      }
     },
     "metadata": {}
    }
   ],
   "source": [
    "%matplotlib inline\n",
    "filename = '/Users/apple/Desktop/Summer_project/dataset/ENCFF239CML_rep1_1.fq'\n",
    "sequence = read_sequence(filename)\n",
    "length = 6\n",
    "\n",
    "# create interactive sliders for kmer sequence\n",
    "length_widget = IntSlider(min = 1, max = 1000, value = length)\n",
    "\n",
    "# adjust settings to prevent continous recalculation and update of plot while user drags widget\n",
    "for item in [ length_widget ]:\n",
    "    item.continuous_update = False\n",
    "\n",
    "interactive(bar_interactive, length = length_widget)"
   ]
  },
  {
   "cell_type": "code",
   "execution_count": 9,
   "metadata": {},
   "outputs": [
    {
     "output_type": "display_data",
     "data": {
      "text/plain": "interactive(children=(IntSlider(value=6, continuous_update=False, description='length', max=1000, min=1), Outp…",
      "application/vnd.jupyter.widget-view+json": {
       "version_major": 2,
       "version_minor": 0,
       "model_id": "ab9fda735a4c4b31bf04853eac39fff6"
      }
     },
     "metadata": {}
    }
   ],
   "source": [
    "%matplotlib inline\n",
    "filename = '/Users/apple/Desktop/Summer_project/dataset/ENCFF239CML_rep1_2.fq'\n",
    "sequence = read_sequence(filename)\n",
    "length = 6\n",
    "\n",
    "# create interactive sliders for kmer sequence\n",
    "length_widget = IntSlider(min = 1, max = 1000, value = length)\n",
    "\n",
    "# adjust settings to prevent continous recalculation and update of plot while user drags widget\n",
    "for item in [ length_widget ]:\n",
    "    item.continuous_update = False\n",
    "\n",
    "interactive(bar_interactive, length = length_widget)"
   ]
  },
  {
   "cell_type": "code",
   "execution_count": 10,
   "metadata": {},
   "outputs": [
    {
     "output_type": "display_data",
     "data": {
      "text/plain": "interactive(children=(IntSlider(value=6, continuous_update=False, description='length', max=1000, min=1), Outp…",
      "application/vnd.jupyter.widget-view+json": {
       "version_major": 2,
       "version_minor": 0,
       "model_id": "d46c33ee553247348b2c170ad6e811ff"
      }
     },
     "metadata": {}
    }
   ],
   "source": [
    "%matplotlib inline\n",
    "filename = '/Users/apple/Desktop/Summer_project/dataset/ENCFF170YQV_rep2_2.fq'\n",
    "sequence = read_sequence(filename)\n",
    "length = 6\n",
    "\n",
    "# create interactive sliders for kmer sequence\n",
    "length_widget = IntSlider(min = 1, max = 1000, value = length)\n",
    "\n",
    "# adjust settings to prevent continous recalculation and update of plot while user drags widget\n",
    "for item in [ length_widget ]:\n",
    "    item.continuous_update = False\n",
    "\n",
    "interactive(bar_interactive, length = length_widget)"
   ]
  },
  {
   "cell_type": "code",
   "execution_count": 25,
   "metadata": {},
   "outputs": [],
   "source": [
    "def shuffled_sequence(sequence, kmer_sequence):\n",
    "    random.seed(100)\n",
    "    kmer_counts = []\n",
    "    \n",
    "    for i in range(0,100):\n",
    "        count = 0\n",
    "\n",
    "        for line in sequence:\n",
    "            shuffled_line = ''.join(random.sample(line,len(line)))\n",
    "\n",
    "            if len(line) >= length:\n",
    "                for i in range(0,len(shuffled_line)-length+1):\n",
    "                    count += shuffled_line.count(kmer_sequence)\n",
    "\n",
    "            else:\n",
    "                print(\"Warning: The kmer length is longer than nucleotide sequence\")\n",
    "\n",
    "        kmer_counts.append(count)\n",
    "        print(kmer_counts)\n",
    "    return kmer_counts\n"
   ]
  },
  {
   "cell_type": "code",
   "execution_count": 24,
   "metadata": {},
   "outputs": [
    {
     "output_type": "error",
     "ename": "KeyboardInterrupt",
     "evalue": "",
     "traceback": [
      "\u001b[0;31m---------------------------------------------------------------------------\u001b[0m",
      "\u001b[0;31mKeyboardInterrupt\u001b[0m                         Traceback (most recent call last)",
      "\u001b[0;32m<ipython-input-24-4c1caeaab99c>\u001b[0m in \u001b[0;36m<module>\u001b[0;34m\u001b[0m\n\u001b[1;32m      4\u001b[0m \u001b[0mkmer_sequence\u001b[0m \u001b[0;34m=\u001b[0m \u001b[0;34m\"GGGAGG\"\u001b[0m\u001b[0;34m\u001b[0m\u001b[0;34m\u001b[0m\u001b[0m\n\u001b[1;32m      5\u001b[0m \u001b[0mlength\u001b[0m \u001b[0;34m=\u001b[0m \u001b[0;36m6\u001b[0m\u001b[0;34m\u001b[0m\u001b[0;34m\u001b[0m\u001b[0m\n\u001b[0;32m----> 6\u001b[0;31m \u001b[0mkmer_counts\u001b[0m \u001b[0;34m=\u001b[0m \u001b[0mshuffled_sequence\u001b[0m\u001b[0;34m(\u001b[0m\u001b[0msequence\u001b[0m\u001b[0;34m,\u001b[0m \u001b[0mkmer_sequence\u001b[0m\u001b[0;34m)\u001b[0m\u001b[0;34m\u001b[0m\u001b[0;34m\u001b[0m\u001b[0m\n\u001b[0m\u001b[1;32m      7\u001b[0m \u001b[0;34m\u001b[0m\u001b[0m\n\u001b[1;32m      8\u001b[0m \u001b[0;31m# Plot the histogram\u001b[0m\u001b[0;34m\u001b[0m\u001b[0;34m\u001b[0m\u001b[0;34m\u001b[0m\u001b[0m\n",
      "\u001b[0;32m<ipython-input-20-a87bcda91e52>\u001b[0m in \u001b[0;36mshuffled_sequence\u001b[0;34m(sequence, kmer_sequence)\u001b[0m\n\u001b[1;32m      7\u001b[0m \u001b[0;34m\u001b[0m\u001b[0m\n\u001b[1;32m      8\u001b[0m         \u001b[0;32mfor\u001b[0m \u001b[0mline\u001b[0m \u001b[0;32min\u001b[0m \u001b[0msequence\u001b[0m\u001b[0;34m:\u001b[0m\u001b[0;34m\u001b[0m\u001b[0;34m\u001b[0m\u001b[0m\n\u001b[0;32m----> 9\u001b[0;31m             \u001b[0mshuffled_line\u001b[0m \u001b[0;34m=\u001b[0m \u001b[0;34m''\u001b[0m\u001b[0;34m.\u001b[0m\u001b[0mjoin\u001b[0m\u001b[0;34m(\u001b[0m\u001b[0mrandom\u001b[0m\u001b[0;34m.\u001b[0m\u001b[0msample\u001b[0m\u001b[0;34m(\u001b[0m\u001b[0mline\u001b[0m\u001b[0;34m,\u001b[0m\u001b[0mlen\u001b[0m\u001b[0;34m(\u001b[0m\u001b[0mline\u001b[0m\u001b[0;34m)\u001b[0m\u001b[0;34m)\u001b[0m\u001b[0;34m)\u001b[0m\u001b[0;34m\u001b[0m\u001b[0;34m\u001b[0m\u001b[0m\n\u001b[0m\u001b[1;32m     10\u001b[0m \u001b[0;34m\u001b[0m\u001b[0m\n\u001b[1;32m     11\u001b[0m             \u001b[0;32mif\u001b[0m \u001b[0mlen\u001b[0m\u001b[0;34m(\u001b[0m\u001b[0mline\u001b[0m\u001b[0;34m)\u001b[0m \u001b[0;34m>=\u001b[0m \u001b[0mlength\u001b[0m\u001b[0;34m:\u001b[0m\u001b[0;34m\u001b[0m\u001b[0;34m\u001b[0m\u001b[0m\n",
      "\u001b[0;32m~/opt/anaconda3/lib/python3.7/random.py\u001b[0m in \u001b[0;36msample\u001b[0;34m(self, population, k)\u001b[0m\n\u001b[1;32m    318\u001b[0m         \u001b[0mrandbelow\u001b[0m \u001b[0;34m=\u001b[0m \u001b[0mself\u001b[0m\u001b[0;34m.\u001b[0m\u001b[0m_randbelow\u001b[0m\u001b[0;34m\u001b[0m\u001b[0;34m\u001b[0m\u001b[0m\n\u001b[1;32m    319\u001b[0m         \u001b[0mn\u001b[0m \u001b[0;34m=\u001b[0m \u001b[0mlen\u001b[0m\u001b[0;34m(\u001b[0m\u001b[0mpopulation\u001b[0m\u001b[0;34m)\u001b[0m\u001b[0;34m\u001b[0m\u001b[0;34m\u001b[0m\u001b[0m\n\u001b[0;32m--> 320\u001b[0;31m         \u001b[0;32mif\u001b[0m \u001b[0;32mnot\u001b[0m \u001b[0;36m0\u001b[0m \u001b[0;34m<=\u001b[0m \u001b[0mk\u001b[0m \u001b[0;34m<=\u001b[0m \u001b[0mn\u001b[0m\u001b[0;34m:\u001b[0m\u001b[0;34m\u001b[0m\u001b[0;34m\u001b[0m\u001b[0m\n\u001b[0m\u001b[1;32m    321\u001b[0m             \u001b[0;32mraise\u001b[0m \u001b[0mValueError\u001b[0m\u001b[0;34m(\u001b[0m\u001b[0;34m\"Sample larger than population or is negative\"\u001b[0m\u001b[0;34m)\u001b[0m\u001b[0;34m\u001b[0m\u001b[0;34m\u001b[0m\u001b[0m\n\u001b[1;32m    322\u001b[0m         \u001b[0mresult\u001b[0m \u001b[0;34m=\u001b[0m \u001b[0;34m[\u001b[0m\u001b[0;32mNone\u001b[0m\u001b[0;34m]\u001b[0m \u001b[0;34m*\u001b[0m \u001b[0mk\u001b[0m\u001b[0;34m\u001b[0m\u001b[0;34m\u001b[0m\u001b[0m\n",
      "\u001b[0;31mKeyboardInterrupt\u001b[0m: "
     ]
    }
   ],
   "source": [
    "# Generate the counts for the choosen kmer sequence\n",
    "filename = '/Users/apple/Desktop/Summer_project/dataset/ENCFF170YQV_rep2_2.fq'\n",
    "sequence = read_sequence(filename)\n",
    "kmer_sequence = \"GGGAGG\"\n",
    "length = 6\n",
    "kmer_counts = shuffled_sequence(sequence, kmer_sequence)\n",
    "\n",
    "# Plot the histogram\n",
    "fig2 = plt.figure(figsize = (10,5))\n",
    "ax1 = fig2.add_subplot(1,1,1)\n",
    "\n",
    "_, bins, _ = ax1.hist(kmer_counts,bins = 100, density=1, alpha=0.5,label = \"bins\")\n",
    "\n",
    "ax1.set_xlabel(\"counts for \" + kmer_sequence, fontsize = 15)\n",
    "ax1.set_ylabel(\"Proportion\", fontsize = 15)\n",
    "ax1.set_title(f\"Mean = {mu:.2f}, SD = {sigma:.2f}\",fontsize = 20)"
   ]
  }
 ]
}