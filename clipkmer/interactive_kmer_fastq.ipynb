{
 "metadata": {
  "language_info": {
   "codemirror_mode": {
    "name": "ipython",
    "version": 3
   },
   "file_extension": ".py",
   "mimetype": "text/x-python",
   "name": "python",
   "nbconvert_exporter": "python",
   "pygments_lexer": "ipython3",
   "version": "3.7.4"
  },
  "orig_nbformat": 4,
  "kernelspec": {
   "name": "python3",
   "display_name": "Python 3.7.4 64-bit ('base': conda)"
  },
  "interpreter": {
   "hash": "c39b740c7e8315252f08c94b17875ec09dd6ee22a1ed05f98757d1ae325a54cb"
  }
 },
 "nbformat": 4,
 "nbformat_minor": 2,
 "cells": [
  {
   "cell_type": "code",
   "execution_count": 1,
   "metadata": {},
   "outputs": [],
   "source": [
    "import matplotlib.pyplot as plt  \n",
    "import scipy\n",
    "from scipy.stats import norm\n",
    "from collections import Counter\n",
    "from ipywidgets import interactive, IntSlider"
   ]
  },
  {
   "cell_type": "code",
   "execution_count": 2,
   "metadata": {},
   "outputs": [],
   "source": [
    "def read_sequence(filename):\n",
    "    with open(filename, \"r\") as file, open(output_file, \"w\") as sequences: \n",
    "        file_content = file.readlines()\n",
    "        for i in range(len(file_content)):\n",
    "            if file_content[i].startswith(\"@\"):\n",
    "                sequences.writelines(file_content[i+1])\n",
    "    \n",
    "    return output_file"
   ]
  },
  {
   "cell_type": "code",
   "execution_count": 3,
   "metadata": {},
   "outputs": [],
   "source": [
    "def kmer_frequency(output_file, length):\n",
    "    output_dict = {}\n",
    "    with open(output_file, 'r') as sequences:\n",
    "        for line in sequences:\n",
    "            # Save the kmer frequency for each sequence\n",
    "            line_dict = {}\n",
    "            for i in range(0,len(line)-length+1):\n",
    "                fragment = line[i:i+length]\n",
    "                count = line.count(fragment)\n",
    "                line_dict[fragment] = count\n",
    "            \n",
    "            # Add the kmer frequency in each sequence to the total dictionary \n",
    "            for key in line_dict:\n",
    "                if key in output_dict.keys():\n",
    "                    output_dict[key] = output_dict[key] + line_dict[key]\n",
    "                else:\n",
    "                    output_dict[key] = line_dict[key]\n",
    "\n",
    "    return output_dict"
   ]
  },
  {
   "cell_type": "code",
   "execution_count": 4,
   "metadata": {},
   "outputs": [],
   "source": [
    "def bar_interactive(length):\n",
    "    output_file = read_sequence(filename)\n",
    "    output = kmer_frequency(output_file,length)\n",
    "    top10 = dict(Counter(output).most_common(10))\n",
    "    \n",
    "    #Plot the bar chart for top 10 values\n",
    "    fig1 = plt.figure(figsize = (10,5))\n",
    "    ax = fig1.add_subplot(1,1,1)\n",
    "    ax.bar(list(top10.keys()), top10.values(), color = \"b\")\n",
    "    ax.set_xlabel(\"Fragments\",fontsize = 15)\n",
    "    ax.set_ylabel(\"Counts\",fontsize = 15)"
   ]
  },
  {
   "cell_type": "code",
   "execution_count": 7,
   "metadata": {},
   "outputs": [
    {
     "output_type": "display_data",
     "data": {
      "text/plain": "interactive(children=(IntSlider(value=6, continuous_update=False, description='length', max=1000, min=1), Outp…",
      "application/vnd.jupyter.widget-view+json": {
       "version_major": 2,
       "version_minor": 0,
       "model_id": "39f7694ba9ad41f58ec3b71484b85ff6"
      }
     },
     "metadata": {}
    }
   ],
   "source": [
    "%matplotlib inline\n",
    "filename = '/Users/apple/Desktop/Summer_project/dataset/ENCFF170YQV_rep2_1.fq'\n",
    "output_file = \"sequences.txt\"\n",
    "length = 6\n",
    "\n",
    "# create interactive sliders for kmer sequence\n",
    "length_widget = IntSlider(min = 1, max = 1000, value = length)\n",
    "\n",
    "# adjust settings to prevent continous recalculation and update of plot while user drags widget\n",
    "for item in [ length_widget ]:\n",
    "    item.continuous_update = False\n",
    "\n",
    "interactive(bar_interactive, length = length_widget)"
   ]
  },
  {
   "cell_type": "code",
   "execution_count": 8,
   "metadata": {},
   "outputs": [
    {
     "output_type": "display_data",
     "data": {
      "text/plain": "interactive(children=(IntSlider(value=6, continuous_update=False, description='length', max=1000, min=1), Outp…",
      "application/vnd.jupyter.widget-view+json": {
       "version_major": 2,
       "version_minor": 0,
       "model_id": "54e66fef904f4d3ba2027843964a8e19"
      }
     },
     "metadata": {}
    }
   ],
   "source": [
    "%matplotlib inline\n",
    "filename = '/Users/apple/Desktop/Summer_project/dataset/ENCFF239CML_rep1_1.fq'\n",
    "output_file = \"sequences.txt\"\n",
    "length = 6\n",
    "\n",
    "# create interactive sliders for kmer sequence\n",
    "length_widget = IntSlider(min = 1, max = 1000, value = length)\n",
    "\n",
    "# adjust settings to prevent continous recalculation and update of plot while user drags widget\n",
    "for item in [ length_widget ]:\n",
    "    item.continuous_update = False\n",
    "\n",
    "interactive(bar_interactive, length = length_widget)"
   ]
  },
  {
   "cell_type": "code",
   "execution_count": 9,
   "metadata": {},
   "outputs": [
    {
     "output_type": "display_data",
     "data": {
      "text/plain": "interactive(children=(IntSlider(value=6, continuous_update=False, description='length', max=1000, min=1), Outp…",
      "application/vnd.jupyter.widget-view+json": {
       "version_major": 2,
       "version_minor": 0,
       "model_id": "ab9fda735a4c4b31bf04853eac39fff6"
      }
     },
     "metadata": {}
    }
   ],
   "source": [
    "%matplotlib inline\n",
    "filename = '/Users/apple/Desktop/Summer_project/dataset/ENCFF239CML_rep1_2.fq'\n",
    "output_file = \"sequences.txt\"\n",
    "length = 6\n",
    "\n",
    "# create interactive sliders for kmer sequence\n",
    "length_widget = IntSlider(min = 1, max = 1000, value = length)\n",
    "\n",
    "# adjust settings to prevent continous recalculation and update of plot while user drags widget\n",
    "for item in [ length_widget ]:\n",
    "    item.continuous_update = False\n",
    "\n",
    "interactive(bar_interactive, length = length_widget)"
   ]
  },
  {
   "cell_type": "code",
   "execution_count": 10,
   "metadata": {},
   "outputs": [
    {
     "output_type": "display_data",
     "data": {
      "text/plain": "interactive(children=(IntSlider(value=6, continuous_update=False, description='length', max=1000, min=1), Outp…",
      "application/vnd.jupyter.widget-view+json": {
       "version_major": 2,
       "version_minor": 0,
       "model_id": "d46c33ee553247348b2c170ad6e811ff"
      }
     },
     "metadata": {}
    }
   ],
   "source": [
    "%matplotlib inline\n",
    "filename = '/Users/apple/Desktop/Summer_project/dataset/ENCFF170YQV_rep2_2.fq'\n",
    "output_file = \"sequences.txt\"\n",
    "length = 6\n",
    "\n",
    "# create interactive sliders for kmer sequence\n",
    "length_widget = IntSlider(min = 1, max = 1000, value = length)\n",
    "\n",
    "# adjust settings to prevent continous recalculation and update of plot while user drags widget\n",
    "for item in [ length_widget ]:\n",
    "    item.continuous_update = False\n",
    "\n",
    "interactive(bar_interactive, length = length_widget)"
   ]
  }
 ]
}