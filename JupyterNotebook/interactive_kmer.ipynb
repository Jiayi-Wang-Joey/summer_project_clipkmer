{
 "metadata": {
  "language_info": {
   "codemirror_mode": {
    "name": "ipython",
    "version": 3
   },
   "file_extension": ".py",
   "mimetype": "text/x-python",
   "name": "python",
   "nbconvert_exporter": "python",
   "pygments_lexer": "ipython3",
   "version": "3.7.4"
  },
  "orig_nbformat": 4,
  "kernelspec": {
   "name": "python3",
   "display_name": "Python 3.7.4 64-bit ('base': conda)"
  },
  "interpreter": {
   "hash": "c39b740c7e8315252f08c94b17875ec09dd6ee22a1ed05f98757d1ae325a54cb"
  }
 },
 "nbformat": 4,
 "nbformat_minor": 2,
 "cells": [
  {
   "cell_type": "code",
   "execution_count": 25,
   "metadata": {},
   "outputs": [],
   "source": [
    "import numpy as np  \n",
    "import matplotlib.pyplot as plt  \n",
    "import scipy\n",
    "from scipy.stats import norm\n",
    "from collections import Counter\n",
    "from ipywidgets import interactive, IntSlider"
   ]
  },
  {
   "cell_type": "code",
   "execution_count": 19,
   "metadata": {},
   "outputs": [],
   "source": [
    "def read_sequence(filename):\n",
    "    with open(filename,'r') as file:\n",
    "        sequence = file.read()\n",
    "        sequence = sequence.replace(\"\\n\",\"\")\n",
    "    return sequence"
   ]
  },
  {
   "cell_type": "code",
   "execution_count": 20,
   "metadata": {},
   "outputs": [],
   "source": [
    "def kmer_frequency(sequence,length):\n",
    "    output = {}\n",
    "    for i in range(0,len(sequence)-length+1):\n",
    "        fragment = sequence[i:i+length]\n",
    "        count = sequence.count(fragment)\n",
    "        output[fragment] = count\n",
    "    return output"
   ]
  },
  {
   "cell_type": "code",
   "execution_count": 36,
   "metadata": {},
   "outputs": [],
   "source": [
    "def bar_interactive(length):\n",
    "    sequence = read_sequence(filename)\n",
    "    output = kmer_frequency(sequence,length)\n",
    "    top10 = dict(Counter(output).most_common(10))\n",
    "    \n",
    "    #Plot the bar chart for top 10 values\n",
    "    fig1 = plt.figure(figsize = (10,5))\n",
    "    ax = fig1.add_subplot(1,1,1)\n",
    "    ax.bar(list(top10.keys()), top10.values(), color = \"b\")\n",
    "    ax.set_xlabel(\"Fragments\",fontsize = 15)\n",
    "    ax.set_ylabel(\"Counts\",fontsize = 15)"
   ]
  },
  {
   "cell_type": "code",
   "execution_count": 37,
   "metadata": {},
   "outputs": [],
   "source": [
    "def hist_interactive(length):\n",
    "    sequence = read_sequence(filename)\n",
    "    output = kmer_frequency(sequence,length)\n",
    "    \n",
    "    fig2 = plt.figure(figsize = (5,5))\n",
    "    ax1 = fig2.add_subplot(1,1,1)\n",
    "    \n",
    "    _, bins, _ = ax1.hist(output.values(),bins = 100, density=1, alpha=0.5,label = \"bins\")\n",
    "    \n",
    "    mu, sigma = scipy.stats.norm.fit(list(output.values()))\n",
    "    best_fit_line = scipy.stats.norm.pdf(bins, mu, sigma)\n",
    "    ax1.plot(bins, best_fit_line, label = 'trendline')\n",
    "    ax1.set_xlabel(\"Counts\",fontsize = 15)\n",
    "    ax1.set_ylabel(\"Proportion\", fontsize = 15)\n",
    "    ax1.set_title(f\"Mean = {mu:.2f}, SD = {sigma:.2f}\",fontsize = 20)"
   ]
  },
  {
   "cell_type": "code",
   "execution_count": 38,
   "metadata": {},
   "outputs": [
    {
     "output_type": "display_data",
     "data": {
      "text/plain": "interactive(children=(IntSlider(value=5, continuous_update=False, description='length', max=1406, min=1), Outp…",
      "application/vnd.jupyter.widget-view+json": {
       "version_major": 2,
       "version_minor": 0,
       "model_id": "70d91f1b4f194dceaa3ef468491bf4e1"
      }
     },
     "metadata": {}
    }
   ],
   "source": [
    "%matplotlib inline\n",
    "filename = '/Users/apple/Desktop/eve.txt'\n",
    "sequence = read_sequence(filename)\n",
    "length = 5\n",
    "\n",
    "# create interactive sliders for kmer sequence\n",
    "length_widget = IntSlider(min = 1, max = len(sequence), value = length)\n",
    "\n",
    "# adjust settings to prevent continous recalculation and update of plot while user drags widget\n",
    "for item in [ length_widget ]:\n",
    "    item.continuous_update = False\n",
    "\n",
    "interactive(bar_interactive, length = length_widget)"
   ]
  },
  {
   "cell_type": "code",
   "execution_count": 39,
   "metadata": {},
   "outputs": [
    {
     "output_type": "display_data",
     "data": {
      "text/plain": "interactive(children=(IntSlider(value=5, continuous_update=False, description='length', max=1406, min=1), Outp…",
      "application/vnd.jupyter.widget-view+json": {
       "version_major": 2,
       "version_minor": 0,
       "model_id": "a6377d2843574524aa467497b63016e3"
      }
     },
     "metadata": {}
    }
   ],
   "source": [
    "%matplotlib inline\n",
    "# create interactive sliders for kmer sequence\n",
    "length_widget = IntSlider(min = 1, max = len(sequence), value = length)\n",
    "\n",
    "# adjust settings to prevent continous recalculation and update of plot while user drags widget\n",
    "for item in [ length_widget ]:\n",
    "    item.continuous_update = False\n",
    "\n",
    "interactive(hist_interactive, length = length_widget)"
   ]
  }
 ]
}